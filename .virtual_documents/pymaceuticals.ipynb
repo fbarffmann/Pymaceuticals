# Dependencies and Setup
import matplotlib.pyplot as plt
import pandas as pd
import scipy.stats as st
import numpy as np

# Study data files
mouse_metadata_path = "data/Mouse_metadata.csv"
study_results_path = "data/Study_results.csv"

# Read the mouse data and the study results
mouse_metadata = pd.read_csv(mouse_metadata_path)
study_results = pd.read_csv(study_results_path)

# Combine the data into a single DataFrame
study_complete=pd.merge(study_results,mouse_metadata,how="left",on="Mouse ID")

# Display the data table for preview
study_complete


# Checking the number of mice.
mouse_count=study_complete["Mouse ID"].nunique()
mouse_count


# Our data should be uniquely identified by Mouse ID and Timepoint
# Get the duplicate mice by ID number that shows up for Mouse ID and Timepoint.
rows = study_complete.loc[study_complete.duplicated(subset=['Mouse ID', 'Timepoint'])]
dup_mouse_id = rows["Mouse ID"].iloc[0]
dup_mouse_id



# Get all the data for the duplicate mouse ID.
dup_mouse_data=study_complete.query('`Mouse ID`=="'+dup_mouse_id+'"')
dup_mouse_data



# Create a clean DataFrame by dropping the duplicate mouse by its ID.
study_complete_clean=study_complete.query('`Mouse ID`!="'+dup_mouse_id+'"')
study_complete_clean



# Checking the number of mice in the clean DataFrame.
mouse_count_clean=study_complete_clean["Mouse ID"].nunique()
mouse_count_clean


# Generate a summary statistics table of mean, median, variance, standard deviation, and SEM of the tumor volume for each regimen

# Use groupby and summary statistical methods to calculate the following properties of each drug regimen: 
# mean, median, variance, standard deviation, and SEM of the tumor volume. 
# Assemble the resulting series into a single summary DataFrame.
mean_tumor_volume=study_complete_clean.groupby('Drug Regimen')['Tumor Volume (mm3)'].mean()
mean_tumor_volume.name="Mean Tumor Volume"
median_tumor_volume=study_complete_clean.groupby('Drug Regimen')['Tumor Volume (mm3)'].median()
median_tumor_volume.name="Median Tumor Volume"
var_tumor_volume=study_complete_clean.groupby('Drug Regimen')['Tumor Volume (mm3)'].var()
var_tumor_volume.name="Tumor Volume Variance"
std_tumor_volume=study_complete_clean.groupby('Drug Regimen')['Tumor Volume (mm3)'].std()
std_tumor_volume.name="Tumor Volume Std. Dev."
sem_tumor_volume=study_complete_clean.groupby('Drug Regimen')['Tumor Volume (mm3)'].sem()
sem_tumor_volume.name="Tumor Volume Std. Err."

drug_regimen_stats=pd.merge(mean_tumor_volume,median_tumor_volume,on="Drug Regimen")
drug_regimen_stats=pd.merge(drug_regimen_stats,var_tumor_volume,on="Drug Regimen")
drug_regimen_stats=pd.merge(drug_regimen_stats,std_tumor_volume,on="Drug Regimen")
drug_regimen_stats=pd.merge(drug_regimen_stats,sem_tumor_volume,on="Drug Regimen")

drug_regimen_stats
                           


drug_regimen_stats_2=study_complete_clean.groupby('Drug Regimen').agg({"Tumor Volume (mm3)":["mean","median","var","std","sem"]})
drug_regimen_stats_2


# Generate a bar plot showing the total number of rows (Mouse ID/Timepoints) for each drug regimen using Pandas.
drug_counts = study_complete_clean['Drug Regimen'].value_counts()
drug_counts.plot(kind='bar')
plt.xlabel('Drug Regimen')
plt.ylabel('# of Observed Mouse Timepoints')


# Generate a bar plot showing the total number of rows (Mouse ID/Timepoints) for each drug regimen using pyplot.
drug_counts = study_complete_clean['Drug Regimen'].value_counts()
plt.figure(figsize=(10, 6))
plt.bar(drug_counts.index, drug_counts.values)
plt.xlabel('Drug Regimen')
plt.ylabel('# of Observed Mouse Timepoints')
plt.tight_layout()
plt.show()


# Generate a pie plot showing the distribution of female versus male mice using Pandas
sex_counts = study_complete_clean['Sex'].value_counts()
sex_counts.plot(kind='pie', autopct='%1.1f%%', colors=['#ADD8E6','pink'], labels=['Male','Female'], ylabel='Sex')
plt.show()




# Generate a pie plot showing the distribution of female versus male mice using pyplot
sex_counts = study_complete_clean['Sex'].value_counts()
plt.figure(figsize=(8, 8))
plt.pie(sex_counts, labels=['Male', 'Female'], colors=['#ADD8E6', 'pink'], autopct='%1.1f%%')
plt.ylabel('Sex')
plt.show()


# Calculate the final tumor volume of each mouse across four of the treatment regimens:  
# Capomulin, Ramicane, Infubinol, and Ceftamin
selected_regimens = ['Capomulin', 'Ramicane', 'Infubinol', 'Ceftamin']
filtered_df = study_complete_clean[study_complete_clean['Drug Regimen'].isin(selected_regimens)]
final_tumor_volumes = filtered_df.groupby(['Mouse ID', 'Drug Regimen'])['Tumor Volume (mm3)'].last().reset_index()
final_tumor_volumes


# Start by getting the last (greatest) timepoint for each mouse
last_timepoints = filtered_df.groupby(['Mouse ID'])['Timepoint'].max().reset_index()
last_timepoints


# Merge this group df with the original DataFrame to get the tumor volume at the last timepoint
merged_df = pd.merge(last_timepoints, study_complete_clean, on=['Mouse ID', 'Timepoint'], how='left')
merged_df


# Create empty list to fill with tumor volume data (for plotting)
tumor_volume_data = []

# Calculate the IQR and quantitatively determine if there are any potential outliers.
for treatment in selected_regimens:
    # Filter the dataframe for the current treatment
    treatment_df = merged_df[merged_df['Drug Regimen'] == treatment]
    tumor_volumes = treatment_df['Tumor Volume (mm3)']
    
    # Append tumor volume data for plotting
    tumor_volume_data.append(tumor_volumes)

    # Determine outliers using upper and lower bounds
    quartiles = tumor_volumes.quantile([.25, .5, .75])
    Q1 = quartiles[0.25]
    Q3 = quartiles[0.75]
    IQR = Q3 - Q1
    lower_bound = Q1 - (1.5 * IQR)
    upper_bound = Q3 + (1.5 * IQR)
    potential_outliers = tumor_volumes[(tumor_volumes < lower_bound) | (tumor_volumes > upper_bound)]

    # Print potential outliers
    print(f"{treatment}'s potential outliers: {potential_outliers}")




# Generate a box plot that shows the distrubution of the tumor volume for each treatment group.
fig1, ax1 = plt.subplots()
ax1.boxplot(tumor_volume_data)
ax1.set_ylabel('Final Tumor Volume (mm3)')
ax1.set_xticks([1, 2, 3, 4])
_ = ax1.set_xticklabels(selected_regimens)



# Generate a line plot of tumor volume vs. time point for a single mouse treated with Capomulin

# Filter the dataframe for random mouse treated with Capomulin
capomulin_data = study_complete_clean[study_complete_clean['Drug Regimen'] == 'Capomulin']
# Select a random mouse ID
random_mouse_id = np.random.choice(capomulin_data['Mouse ID'].unique())
random_mouse_data = capomulin_data[capomulin_data['Mouse ID'] == random_mouse_id]

# Create a line plot of tumor volume vs. timepoint
plt.plot(random_mouse_data['Timepoint'], random_mouse_data['Tumor Volume (mm3)'])

# Set plot labels and title
plt.xlabel('Timepoint (days)')
plt.ylabel('Tumor Volume (mm3)')
plt.title(f'Capomulin treatment of mouse {random_mouse_id}')

plt.show()





# Generate a scatter plot of mouse weight vs. the average observed tumor volume for the entire Capomulin regimen
# Calculate the average tumor volume for each mouse treated with Capomulin
capomulin_data = study_complete_clean[study_complete_clean['Drug Regimen'] == 'Capomulin']
average_tumor_volume = capomulin_data.groupby('Mouse ID')['Tumor Volume (mm3)'].mean()

# Get the corresponding weight for each mouse
mouse_weight = capomulin_data.groupby('Mouse ID')['Weight (g)'].unique().apply(lambda x: x[0])

# Create a scatter plot of mouse weight vs. average tumor volume
plt.scatter(mouse_weight, average_tumor_volume, marker='o')

# Set plot labels and title
plt.xlabel('Weight (g)')
plt.ylabel('Average Tumor Volume (mm3)')

plt.show()


# Calculate the average tumor volume for each mouse treated with Capomulin
capomulin_data = study_complete_clean[study_complete_clean['Drug Regimen'] == 'Capomulin']
average_tumor_volume = capomulin_data.groupby('Mouse ID')['Tumor Volume (mm3)'].mean()

# Get the corresponding weight for each mouse
mouse_weight = capomulin_data.groupby('Mouse ID')['Weight (g)'].unique().apply(lambda x: x[0])

# Perform linear regression
slope, intercept, rvalue, pvalue, stderr = st.linregress(mouse_weight, average_tumor_volume)

# Calculate the correlation coefficient
correlation_coefficient = round(rvalue, 2)

# Create a scatter plot of mouse weight vs. average tumor volume
plt.scatter(mouse_weight, average_tumor_volume, marker='o')

# Plot the linear regression line
plt.plot(mouse_weight, slope * mouse_weight + intercept, color='red', linestyle='--')

# Set plot labels and title
plt.xlabel('Weight (g)')
plt.ylabel('Average Tumor Volume (mm3)')

# Add correlation coefficient to the plot
print(f'The correlation between mouse weight and the average tumor volume is {correlation_coefficient}')

# Show plot
plt.show()



